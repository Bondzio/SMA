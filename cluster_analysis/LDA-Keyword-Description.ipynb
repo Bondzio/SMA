{
 "cells": [
  {
   "cell_type": "markdown",
   "metadata": {},
   "source": [
    "## Import Library"
   ]
  },
  {
   "cell_type": "code",
   "execution_count": 1,
   "metadata": {},
   "outputs": [],
   "source": [
    "import json\n",
    "from pprint import pprint\n",
    "\n",
    "import gensim\n",
    "import gensim.corpora as corpora\n",
    "from gensim.models import CoherenceModel\n",
    "\n",
    "#Plotting tools\n",
    "import pyLDAvis\n",
    "import pyLDAvis.gensim  # don't skip this \n",
    "import matplotlib.pyplot as plt\n",
    "%matplotlib inline"
   ]
  },
  {
   "cell_type": "markdown",
   "metadata": {},
   "source": [
    "## Load Data \n",
    "\n",
    "variable:  data  format: {repo1: [...] , repo2: [...]  }\n"
   ]
  },
  {
   "cell_type": "code",
   "execution_count": 2,
   "metadata": {},
   "outputs": [
    {
     "name": "stdout",
     "output_type": "stream",
     "text": [
      "Total number of repositories: 12062\n"
     ]
    }
   ],
   "source": [
    "input_file ='../data/software_keywords/keywords_description.json'\n",
    "with open(input_file) as f:\n",
    "    data = json.load(f)\n",
    "\n",
    "repositories = []\n",
    "repo_keywords = []\n",
    "\n",
    "for data in data['results']['bindings']:\n",
    "    repositories.append(data['soft']['value'].split('Software/')[1])\n",
    "    repo_keywords.append(data['description_keywords']['value'].split(','))\n",
    "    \n",
    "keywords = set([var for sublist in repo_keywords for var in sublist])\n",
    "\n",
    "print(f'Total number of repositories: {len(repositories)}')\n"
   ]
  },
  {
   "cell_type": "markdown",
   "metadata": {},
   "source": [
    "## Word Embedding\n",
    "1. Build dependency file index table ->  id2word  format: {0: 'ipython',1: 'jupyter-sphinx',....}\n",
    "2. Build Corpus   -> corpus    format: [[repo1 info],   [repo2 info]   ]  repo1_info:  [ (dep1_id:fre), xxx  ]\n",
    "3. Build a LDA model"
   ]
  },
  {
   "cell_type": "code",
   "execution_count": 3,
   "metadata": {},
   "outputs": [
    {
     "name": "stdout",
     "output_type": "stream",
     "text": [
      "repos info: [(0, 1), (1, 1), (2, 1), (3, 1)]\n"
     ]
    },
    {
     "data": {
      "text/plain": [
       "[[(' computational', 1), (' psychiatry', 1), (' tools', 1), ('research', 1)],\n",
       " [(' algorithms', 1),\n",
       "  (' functional', 1),\n",
       "  (' genetic', 1),\n",
       "  (' objective', 1),\n",
       "  (' optimisation', 1),\n",
       "  (' purely', 1),\n",
       "  ('multi', 1)],\n",
       " [(' adaptwest', 1),\n",
       "  (' application', 1),\n",
       "  (' assignees', 1),\n",
       "  (' bug', 1),\n",
       "  (' bug_report', 1),\n",
       "  (' climate', 1),\n",
       "  (' code', 1),\n",
       "  (' com', 1),\n",
       "  (' crde', 1),\n",
       "  (' feature', 1),\n",
       "  (' feature_request', 1),\n",
       "  (' file', 1),\n",
       "  (' github', 1),\n",
       "  (' help', 1),\n",
       "  (' https', 1),\n",
       "  (' issue', 1),\n",
       "  (' issues', 1),\n",
       "  (' labels', 1),\n",
       "  (' md', 1),\n",
       "  (' metrics', 1),\n",
       "  (' request', 1),\n",
       "  (' sibeckers', 1),\n",
       "  (' submit', 1),\n",
       "  (' template', 1),\n",
       "  (' title', 1),\n",
       "  ('new', 1)]]"
      ]
     },
     "execution_count": 3,
     "metadata": {},
     "output_type": "execute_result"
    }
   ],
   "source": [
    "# based on dep file names , build dep name dictionary\n",
    "id2word  = corpora.Dictionary(list(repo_keywords))  # {0: 'computational-psychiatry',1: 'scala', 2: 'SQLAlchemy', 3: 'aiofiles' ....}\n",
    "\n",
    "# # based on dep name dict and dep names, build corpus\n",
    "corpus = [id2word.doc2bow(text) for text in list(repo_keywords)] # [[(0, 1), (1, 1)],.....]\n",
    "\n",
    "print(f'repos info: {corpus[0]}')    #(0, 1)\n",
    "\n",
    "[[(id2word[id_], freq) for id_, freq in cp] for cp in corpus[:3]]"
   ]
  },
  {
   "cell_type": "markdown",
   "metadata": {},
   "source": [
    "## Build LDA model"
   ]
  },
  {
   "cell_type": "code",
   "execution_count": null,
   "metadata": {
    "scrolled": false
   },
   "outputs": [],
   "source": [
    "%%time\n",
    "clusters = list(range(2,30))\n",
    "for k in clusters:   \n",
    "    lda_model = gensim.models.ldamodel.LdaModel(corpus=corpus,\n",
    "                                           id2word=id2word,\n",
    "                                           num_topics=k, \n",
    "                                           random_state=100,\n",
    "                                           update_every=1,\n",
    "                                           chunksize=100,\n",
    "                                           passes=10,\n",
    "                                           alpha='auto',\n",
    "                                           per_word_topics=True)\n",
    "    # pprint(lda_model.print_topics())\n",
    "    # Compute Perplexity and Coherence Score\n",
    "    Perplexity = lda_model.log_perplexity(corpus)\n",
    "    coherence_model_lda = CoherenceModel(model=lda_model, texts=list(repo_keywords), dictionary=id2word, coherence='c_v')\n",
    "    coherence_lda = coherence_model_lda.get_coherence()\n",
    "    print('cluster number:',k, 'Coherence Score',coherence_lda,'Perplexity:',Perplexity)\n",
    "    print('='*55)"
   ]
  },
  {
   "cell_type": "markdown",
   "metadata": {},
   "source": [
    "=> result: cluster number: 10 Coherence Score 0.6317525523888398 Perplexity: -11.956119738909369"
   ]
  },
  {
   "cell_type": "code",
   "execution_count": null,
   "metadata": {},
   "outputs": [],
   "source": [
    "# use k = 10 to tain LDA\n",
    "lda_model = gensim.models.ldamodel.LdaModel(corpus=corpus,\n",
    "                                       id2word=id2word,\n",
    "                                       num_topics=10, \n",
    "                                       random_state=100,\n",
    "                                       update_every=1,\n",
    "                                       chunksize=100,\n",
    "                                       passes=10,\n",
    "                                       alpha='auto',\n",
    "                                    per_word_topics=True)"
   ]
  },
  {
   "cell_type": "code",
   "execution_count": null,
   "metadata": {
    "scrolled": false
   },
   "outputs": [],
   "source": [
    "# Show the top 5 words of each topic\n",
    "pprint(lda_model.show_topics(formatted=False))"
   ]
  },
  {
   "cell_type": "code",
   "execution_count": null,
   "metadata": {},
   "outputs": [],
   "source": [
    "# get the possible of each topic\n",
    "lda_model.inference(corpus)[0].shape,lda_model.inference(corpus)[0]"
   ]
  },
  {
   "cell_type": "code",
   "execution_count": null,
   "metadata": {
    "scrolled": true
   },
   "outputs": [],
   "source": [
    "# make inference (cluster) for each repo\n",
    "print('inference ：')\n",
    "topic_dict = {}\n",
    "for e, values in enumerate(lda_model.inference(corpus)[0]):\n",
    "    topic_val = 0\n",
    "    topic_id = 0\n",
    "    for tid, val in enumerate(values):\n",
    "        if val > topic_val:\n",
    "            topic_val = val\n",
    "            topic_id = tid\n",
    "            \n",
    "    topic_dict[topic_id] = topic_dict.get(topic_id,[])\n",
    "    topic_dict[topic_id].append(repositories[e])\n",
    "    print(topic_id, '--->', repositories[e])"
   ]
  },
  {
   "cell_type": "code",
   "execution_count": null,
   "metadata": {
    "scrolled": true
   },
   "outputs": [],
   "source": [
    "# Visualize the topics\n",
    "pyLDAvis.enable_notebook()\n",
    "vis = pyLDAvis.gensim.prepare(lda_model, corpus, id2word)\n",
    "pyLDAvis.save_html(vis, 'lda1.html')"
   ]
  },
  {
   "cell_type": "markdown",
   "metadata": {},
   "source": [
    "# Mallet LDA"
   ]
  },
  {
   "cell_type": "code",
   "execution_count": 4,
   "metadata": {},
   "outputs": [],
   "source": [
    "mallet_path = 'mallet-2.0.8/bin/mallet' # update this path\n",
    "# ldamallet = gensim.models.wrappers.LdaMallet(mallet_path, corpus=corpus, num_topics=10, id2word=id2word)"
   ]
  },
  {
   "cell_type": "markdown",
   "metadata": {},
   "source": [
    "### Hyper parameter tunning"
   ]
  },
  {
   "cell_type": "code",
   "execution_count": 5,
   "metadata": {},
   "outputs": [
    {
     "name": "stdout",
     "output_type": "stream",
     "text": [
      "cluster number: 2 Coherence Score 0.8251989392663577\n",
      "cluster number: 3 Coherence Score 0.8196894255900293\n",
      "cluster number: 4 Coherence Score 0.8076823717613022\n",
      "cluster number: 5 Coherence Score 0.8006650430571295\n",
      "cluster number: 6 Coherence Score 0.7953350965910757\n",
      "cluster number: 7 Coherence Score 0.7886897476510597\n",
      "cluster number: 8 Coherence Score 0.7797892874272285\n",
      "cluster number: 9 Coherence Score 0.7810806441757951\n",
      "cluster number: 10 Coherence Score 0.7732030335430526\n"
     ]
    },
    {
     "data": {
      "image/png": "[encoded data removed]",
      "text/plain": [
       "<Figure size 432x288 with 1 Axes>"
      ]
     },
     "metadata": {
      "needs_background": "light"
     },
     "output_type": "display_data"
    }
   ],
   "source": [
    "coherence_values = []\n",
    "model_list = []\n",
    "for num_topics in range(2, 11):\n",
    "    model = gensim.models.wrappers.LdaMallet(mallet_path, corpus=corpus, num_topics=num_topics, id2word=id2word)\n",
    "    model_list.append(model)\n",
    "    coherencemodel = CoherenceModel(model=model, texts=list(repo_keywords), dictionary=id2word, coherence='c_v')\n",
    "    coherence_values.append(coherencemodel.get_coherence())\n",
    "    print('cluster number:',num_topics, 'Coherence Score',coherencemodel.get_coherence())\n",
    "\n",
    "# Show graph\n",
    "limit=11; start=2; step=1;\n",
    "x = range(start, limit, step)\n",
    "plt.plot(x, coherence_values)\n",
    "plt.xlabel(\"Num Topics\")\n",
    "plt.ylabel(\"Coherence score\")\n",
    "plt.legend((\"coherence_values\"), loc='best')\n",
    "plt.show()"
   ]
  },
  {
   "cell_type": "markdown",
   "metadata": {},
   "source": [
    "### Build model with best topics"
   ]
  },
  {
   "cell_type": "code",
   "execution_count": null,
   "metadata": {
    "scrolled": false
   },
   "outputs": [],
   "source": [
    "# Tune model with best value\n",
    "model = gensim.models.wrappers.LdaMallet(mallet_path, corpus=corpus, num_topics=2, id2word=id2word)\n",
    "\n",
    "# Compute Coherence Score\n",
    "coherence_model_ldamallet = CoherenceModel(model=model, texts=list(repo_keywords), dictionary=id2word, coherence='c_v')\n",
    "coherence_ldamallet = coherence_model_ldamallet.get_coherence()\n",
    "print('\\nCoherence Score: ', coherence_ldamallet)\n",
    "\n",
    "# Show Topics\n",
    "pprint(model.show_topics(formatted=False))"
   ]
  },
  {
   "cell_type": "markdown",
   "metadata": {},
   "source": [
    "### Viz the data"
   ]
  },
  {
   "cell_type": "code",
   "execution_count": 7,
   "metadata": {},
   "outputs": [
    {
     "name": "stderr",
     "output_type": "stream",
     "text": [
      "/Users/parambole/opt/anaconda3/envs/data-mining/lib/python3.6/site-packages/pyLDAvis/_prepare.py:223: RuntimeWarning: divide by zero encountered in log\n",
      "  kernel = (topic_given_term * np.log((topic_given_term.T / topic_proportion).T))\n",
      "/Users/parambole/opt/anaconda3/envs/data-mining/lib/python3.6/site-packages/pyLDAvis/_prepare.py:240: RuntimeWarning: divide by zero encountered in log\n",
      "  log_lift = np.log(topic_term_dists / term_proportion)\n",
      "/Users/parambole/opt/anaconda3/envs/data-mining/lib/python3.6/site-packages/pyLDAvis/_prepare.py:241: RuntimeWarning: divide by zero encountered in log\n",
      "  log_ttd = np.log(topic_term_dists)\n",
      "/Users/parambole/opt/anaconda3/envs/data-mining/lib/python3.6/site-packages/pyLDAvis/_prepare.py:223: RuntimeWarning: divide by zero encountered in log\n",
      "  kernel = (topic_given_term * np.log((topic_given_term.T / topic_proportion).T))\n",
      "/Users/parambole/opt/anaconda3/envs/data-mining/lib/python3.6/site-packages/pyLDAvis/_prepare.py:240: RuntimeWarning: divide by zero encountered in log\n",
      "  log_lift = np.log(topic_term_dists / term_proportion)\n",
      "/Users/parambole/opt/anaconda3/envs/data-mining/lib/python3.6/site-packages/pyLDAvis/_prepare.py:241: RuntimeWarning: divide by zero encountered in log\n",
      "  log_ttd = np.log(topic_term_dists)\n",
      "/Users/parambole/opt/anaconda3/envs/data-mining/lib/python3.6/site-packages/pyLDAvis/_prepare.py:223: RuntimeWarning: divide by zero encountered in log\n",
      "  kernel = (topic_given_term * np.log((topic_given_term.T / topic_proportion).T))\n",
      "/Users/parambole/opt/anaconda3/envs/data-mining/lib/python3.6/site-packages/pyLDAvis/_prepare.py:240: RuntimeWarning: divide by zero encountered in log\n",
      "  log_lift = np.log(topic_term_dists / term_proportion)\n",
      "/Users/parambole/opt/anaconda3/envs/data-mining/lib/python3.6/site-packages/pyLDAvis/_prepare.py:241: RuntimeWarning: divide by zero encountered in log\n",
      "  log_ttd = np.log(topic_term_dists)\n",
      "/Users/parambole/opt/anaconda3/envs/data-mining/lib/python3.6/site-packages/pyLDAvis/_prepare.py:223: RuntimeWarning: divide by zero encountered in log\n",
      "  kernel = (topic_given_term * np.log((topic_given_term.T / topic_proportion).T))\n",
      "/Users/parambole/opt/anaconda3/envs/data-mining/lib/python3.6/site-packages/pyLDAvis/_prepare.py:240: RuntimeWarning: divide by zero encountered in log\n",
      "  log_lift = np.log(topic_term_dists / term_proportion)\n",
      "/Users/parambole/opt/anaconda3/envs/data-mining/lib/python3.6/site-packages/pyLDAvis/_prepare.py:241: RuntimeWarning: divide by zero encountered in log\n",
      "  log_ttd = np.log(topic_term_dists)\n",
      "/Users/parambole/opt/anaconda3/envs/data-mining/lib/python3.6/site-packages/pyLDAvis/_prepare.py:223: RuntimeWarning: divide by zero encountered in log\n",
      "  kernel = (topic_given_term * np.log((topic_given_term.T / topic_proportion).T))\n",
      "/Users/parambole/opt/anaconda3/envs/data-mining/lib/python3.6/site-packages/pyLDAvis/_prepare.py:240: RuntimeWarning: divide by zero encountered in log\n",
      "  log_lift = np.log(topic_term_dists / term_proportion)\n",
      "/Users/parambole/opt/anaconda3/envs/data-mining/lib/python3.6/site-packages/pyLDAvis/_prepare.py:241: RuntimeWarning: divide by zero encountered in log\n",
      "  log_ttd = np.log(topic_term_dists)\n",
      "/Users/parambole/opt/anaconda3/envs/data-mining/lib/python3.6/site-packages/pyLDAvis/_prepare.py:223: RuntimeWarning: divide by zero encountered in log\n",
      "  kernel = (topic_given_term * np.log((topic_given_term.T / topic_proportion).T))\n",
      "/Users/parambole/opt/anaconda3/envs/data-mining/lib/python3.6/site-packages/pyLDAvis/_prepare.py:240: RuntimeWarning: divide by zero encountered in log\n",
      "  log_lift = np.log(topic_term_dists / term_proportion)\n",
      "/Users/parambole/opt/anaconda3/envs/data-mining/lib/python3.6/site-packages/pyLDAvis/_prepare.py:241: RuntimeWarning: divide by zero encountered in log\n",
      "  log_ttd = np.log(topic_term_dists)\n",
      "/Users/parambole/opt/anaconda3/envs/data-mining/lib/python3.6/site-packages/pyLDAvis/_prepare.py:223: RuntimeWarning: divide by zero encountered in log\n",
      "  kernel = (topic_given_term * np.log((topic_given_term.T / topic_proportion).T))\n",
      "/Users/parambole/opt/anaconda3/envs/data-mining/lib/python3.6/site-packages/pyLDAvis/_prepare.py:240: RuntimeWarning: divide by zero encountered in log\n",
      "  log_lift = np.log(topic_term_dists / term_proportion)\n",
      "/Users/parambole/opt/anaconda3/envs/data-mining/lib/python3.6/site-packages/pyLDAvis/_prepare.py:241: RuntimeWarning: divide by zero encountered in log\n",
      "  log_ttd = np.log(topic_term_dists)\n",
      "/Users/parambole/opt/anaconda3/envs/data-mining/lib/python3.6/site-packages/pyLDAvis/_prepare.py:223: RuntimeWarning: divide by zero encountered in log\n",
      "  kernel = (topic_given_term * np.log((topic_given_term.T / topic_proportion).T))\n",
      "/Users/parambole/opt/anaconda3/envs/data-mining/lib/python3.6/site-packages/pyLDAvis/_prepare.py:240: RuntimeWarning: divide by zero encountered in log\n",
      "  log_lift = np.log(topic_term_dists / term_proportion)\n",
      "/Users/parambole/opt/anaconda3/envs/data-mining/lib/python3.6/site-packages/pyLDAvis/_prepare.py:241: RuntimeWarning: divide by zero encountered in log\n",
      "  log_ttd = np.log(topic_term_dists)\n",
      "/Users/parambole/opt/anaconda3/envs/data-mining/lib/python3.6/site-packages/pyLDAvis/_prepare.py:223: RuntimeWarning: divide by zero encountered in log\n",
      "  kernel = (topic_given_term * np.log((topic_given_term.T / topic_proportion).T))\n",
      "/Users/parambole/opt/anaconda3/envs/data-mining/lib/python3.6/site-packages/pyLDAvis/_prepare.py:240: RuntimeWarning: divide by zero encountered in log\n",
      "  log_lift = np.log(topic_term_dists / term_proportion)\n",
      "/Users/parambole/opt/anaconda3/envs/data-mining/lib/python3.6/site-packages/pyLDAvis/_prepare.py:241: RuntimeWarning: divide by zero encountered in log\n",
      "  log_ttd = np.log(topic_term_dists)\n"
     ]
    }
   ],
   "source": [
    "# Visualize the topics\n",
    "for i, model in enumerate(model_list):\n",
    "    lda_model_mallet = gensim.models.wrappers.ldamallet.malletmodel2ldamodel(model)\n",
    "    pyLDAvis.enable_notebook()\n",
    "    vis = pyLDAvis.gensim.prepare(lda_model_mallet, corpus, id2word)\n",
    "    pyLDAvis.save_html(vis, f'lda1-mallet-keyword-description-{i+2}.html')"
   ]
  }
 ],
 "metadata": {
  "kernelspec": {
   "display_name": "Python 3",
   "language": "python",
   "name": "python3"
  },
  "language_info": {
   "codemirror_mode": {
    "name": "ipython",
    "version": 3
   },
   "file_extension": ".py",
   "mimetype": "text/x-python",
   "name": "python",
   "nbconvert_exporter": "python",
   "pygments_lexer": "ipython3",
   "version": "3.6.12"
  }
 },
 "nbformat": 4,
 "nbformat_minor": 2
}

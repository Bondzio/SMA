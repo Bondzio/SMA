{
 "cells": [
  {
   "cell_type": "markdown",
   "metadata": {},
   "source": [
    "## Load Library"
   ]
  },
  {
   "cell_type": "code",
   "execution_count": 1,
   "metadata": {},
   "outputs": [],
   "source": [
    "import json\n",
    "import numpy as np\n",
    "import pandas as pd\n",
    "from sklearn.cluster import KMeans\n",
    "from sklearn import metrics\n",
    "from sklearn.decomposition import PCA\n",
    "from sklearn.metrics.pairwise import cosine_similarity\n",
    "from sklearn.cluster import SpectralClustering\n",
    "\n",
    "import warnings\n",
    "\n",
    "warnings.filterwarnings('ignore')\n",
    "\n",
    "from matplotlib import pyplot as plt\n",
    "%matplotlib inline"
   ]
  },
  {
   "cell_type": "markdown",
   "metadata": {},
   "source": [
    "## Load Data"
   ]
  },
  {
   "cell_type": "code",
   "execution_count": 2,
   "metadata": {},
   "outputs": [
    {
     "name": "stdout",
     "output_type": "stream",
     "text": [
      "Repository numbers: 2960\n",
      "https://github.com/natcap/natgeo-dams': \n",
      "['pypng', 'requests', 'alabaster', 'codecov', 'detox', 'docutils', 'flake8', 'httpbin', 'more-itertools', 'pysocks', 'pytest', 'pytest-cov', 'pytest-httpbin', 'pytest-mock', 'pytest-xdist', 'readme-renderer', 'sphinx', 'tox', 'apipkg', 'appdirs', 'atomicwrites', 'attrs', 'babel', 'bleach', 'blinker', 'brotlipy', 'certifi', 'cffi', 'chardet', 'click', 'configparser', 'contextlib2', 'coverage', 'decorator', 'distlib', 'dnspython', 'entrypoints', 'enum34', 'eventlet', 'execnet', 'filelock', 'flask', 'funcsigs', 'functools32', 'greenlet', 'idna', 'imagesize', 'importlib-metadata', 'importlib-resources', 'itsdangerous', 'jinja2', 'markupsafe', 'mccabe', 'mock', 'monotonic', 'pathlib2', 'pluggy', 'py', 'pycodestyle', 'pycparser', 'pyflakes', 'pygments', 'pytest-forked', 'pytz', 'raven', 'scandir', 'singledispatch', 'six', 'snowballstemmer', 'toml', 'typing', 'urllib3', 'virtualenv', 'webencodings', 'werkzeug', 'zipp']\n"
     ]
    }
   ],
   "source": [
    "input_file ='../data/results_3k_2hop.json'\n",
    "\n",
    "# with open(input_file) as f:\n",
    "#     repo_data = json.load(f,strict=False)\n",
    "#  JSONDecodeError: Extra data: line 2 column 1 (char 969)\n",
    "    \n",
    "file = open(input_file, 'r', encoding='utf-8')\n",
    "repo_data = {}\n",
    "for line in file.readlines():\n",
    "    dic = json.loads(line)\n",
    "    repo_data = {**repo_data,**dic}\n",
    "    \n",
    "print(f'Repository numbers: {len(repo_data)}')\n",
    "print(f'''https://github.com/natcap/natgeo-dams': \n",
    "{repo_data['https://github.com/natcap/natgeo-dams']}''')"
   ]
  },
  {
   "cell_type": "markdown",
   "metadata": {},
   "source": [
    "###  problem: why 2960??"
   ]
  },
  {
   "cell_type": "markdown",
   "metadata": {},
   "source": [
    "## Process Data\n",
    "1. repository name -> index\n",
    "2. dependency name -> index\n",
    "3. build dep matrix  matrix shape (2960, 28477)"
   ]
  },
  {
   "cell_type": "code",
   "execution_count": 3,
   "metadata": {},
   "outputs": [],
   "source": [
    "## id->name name->id dictionary\n",
    "rep_name2index = {}\n",
    "dep_name2index = {}\n",
    "for rep,deps in repo_data.items():\n",
    "    rep_name2index.setdefault(rep,len(rep_name2index))\n",
    "    for dep in deps:\n",
    "        dep_name2index.setdefault(dep,len(dep_name2index))\n",
    "\n",
    "rep_index2name = {}\n",
    "dep_index2name = {}\n",
    "for k,v in rep_name2index.items():\n",
    "    rep_index2name[v] = k\n",
    "\n",
    "for k,v in dep_name2index.items():\n",
    "    dep_index2name[v] = k\n",
    "\n",
    "rep_num = len(rep_name2index)\n",
    "dep_num = len(dep_name2index)\n",
    "    \n",
    "# build matrix\n",
    "repo_mat = np.zeros((rep_num,dep_num))  # (3012, 15663)\n",
    "for rep in repo_data:\n",
    "    rep_index = rep_name2index[rep] # row number\n",
    "    for dep in repo_data[rep]:\n",
    "        dep_index =dep_name2index[dep] # col number\n",
    "        repo_mat[rep_index][dep_index] = 1"
   ]
  },
  {
   "cell_type": "markdown",
   "metadata": {},
   "source": [
    "## Clustering"
   ]
  },
  {
   "cell_type": "code",
   "execution_count": 4,
   "metadata": {},
   "outputs": [
    {
     "data": {
      "text/plain": [
       "((2960, 2960),\n",
       " array([[1.        , 0.09410436, 0.        , ..., 0.13905533, 0.14509525,\n",
       "         0.12681432],\n",
       "        [0.09410436, 1.        , 0.03566882, ..., 0.32928732, 0.22558942,\n",
       "         0.31905175],\n",
       "        [0.        , 0.03566882, 1.        , ..., 0.09325048, 0.15811388,\n",
       "         0.10050378],\n",
       "        ...,\n",
       "        [0.13905533, 0.32928732, 0.09325048, ..., 1.        , 0.58976782,\n",
       "         0.77787815],\n",
       "        [0.14509525, 0.22558942, 0.15811388, ..., 0.58976782, 1.        ,\n",
       "         0.38138504],\n",
       "        [0.12681432, 0.31905175, 0.10050378, ..., 0.77787815, 0.38138504,\n",
       "         1.        ]]))"
      ]
     },
     "execution_count": 4,
     "metadata": {},
     "output_type": "execute_result"
    }
   ],
   "source": [
    "##  get the cosine similarity matrix\n",
    "cos_sim_mat = cosine_similarity(repo_mat)\n",
    "cos_sim_mat.shape, cos_sim_mat"
   ]
  },
  {
   "cell_type": "code",
   "execution_count": 5,
   "metadata": {},
   "outputs": [
    {
     "data": {
      "text/plain": [
       "((2960, 28477), array([[1., 1., 1., ..., 0., 0., 0.],\n",
       "        [0., 1., 0., ..., 0., 0., 0.],\n",
       "        [0., 0., 0., ..., 0., 0., 0.],\n",
       "        ...,\n",
       "        [0., 1., 0., ..., 0., 0., 0.],\n",
       "        [0., 0., 0., ..., 0., 0., 0.],\n",
       "        [0., 1., 0., ..., 0., 0., 0.]]))"
      ]
     },
     "execution_count": 5,
     "metadata": {},
     "output_type": "execute_result"
    }
   ],
   "source": [
    "repo_mat.shape,repo_mat"
   ]
  },
  {
   "cell_type": "markdown",
   "metadata": {},
   "source": [
    "###  1. Kmeans with repo_mat"
   ]
  },
  {
   "cell_type": "code",
   "execution_count": 6,
   "metadata": {
    "scrolled": true
   },
   "outputs": [
    {
     "name": "stdout",
     "output_type": "stream",
     "text": [
      "n_clusters= 2 score1: 1037.3159999545803 score2: 0.6070374259660937 score3: 1.251053509803207\n",
      "n_clusters= 3 score1: 841.1096022571222 score2: 0.4160917525672647 score3: 1.7806583711237343\n",
      "n_clusters= 4 score1: 653.7732783597684 score2: 0.36690552381107616 score3: 2.1391056538890036\n",
      "n_clusters= 5 score1: 559.1849565304647 score2: 0.2254839793143711 score3: 2.109862162641722\n",
      "n_clusters= 6 score1: 497.1392400412659 score2: 0.2319295499984247 score3: 2.0232958701516783\n",
      "n_clusters= 7 score1: 435.48959126682246 score2: 0.23709255104064475 score3: 2.3371219940763734\n",
      "n_clusters= 8 score1: 405.2303178440135 score2: 0.23725043940058713 score3: 1.9305873089305505\n",
      "n_clusters= 9 score1: 385.1835284745038 score2: 0.24391255129807698 score3: 2.120665720686558\n",
      "n_clusters= 10 score1: 351.16809868415584 score2: 0.2447501547830813 score3: 2.3145950889453846\n",
      "n_clusters= 11 score1: 343.93481880549064 score2: 0.25114657361615395 score3: 2.01906783111127\n",
      "n_clusters= 12 score1: 319.8157083750234 score2: 0.25186355521462583 score3: 2.209254649388918\n",
      "n_clusters= 13 score1: 294.87803004809825 score2: 0.17731705147538648 score3: 2.251298603173944\n",
      "n_clusters= 14 score1: 280.2169631210992 score2: 0.2523665026259587 score3: 2.191582932275172\n",
      "Wall time: 13min 8s\n"
     ]
    }
   ],
   "source": [
    "%%time\n",
    "\n",
    "clusters = list(range(2,15))\n",
    "c_h_scores,s_scores,d_scores = [],[],[]\n",
    "for k in clusters:\n",
    "    y_pred = KMeans(n_clusters=k, init='k-means++', max_iter=500).fit_predict(repo_mat)\n",
    "    c_h_score= metrics.calinski_harabasz_score(repo_mat, y_pred) # maximize \n",
    "    s_score = metrics.silhouette_score(repo_mat, y_pred)         # [-1,1]  want it close to 1\n",
    "    d_score = metrics.davies_bouldin_score(repo_mat, y_pred)     # minimize  want it close to 0\n",
    "    c_h_scores.append(c_h_score)\n",
    "    s_scores.append(s_score)\n",
    "    d_scores.append(d_score)\n",
    "    print(\"n_clusters=\", k,\"score1:\",c_h_score,\"score2:\",s_score,\"score3:\",d_score)"
   ]
  },
  {
   "cell_type": "markdown",
   "metadata": {},
   "source": [
    "#### => result clusetr = 4 OR 5 "
   ]
  },
  {
   "cell_type": "markdown",
   "metadata": {},
   "source": [
    "###  2. Kmeans + PCA with repo_mat"
   ]
  },
  {
   "cell_type": "code",
   "execution_count": 7,
   "metadata": {
    "scrolled": true
   },
   "outputs": [
    {
     "name": "stdout",
     "output_type": "stream",
     "text": [
      "(2960, 310)\n",
      "n_clusters= 2 score1: 1112.3081396235818 score2: 0.620014450723952 score3: 1.2342280724704169\n",
      "n_clusters= 3 score1: 912.377774457533 score2: 0.44270637289436143 score3: 1.7045305910820243\n",
      "n_clusters= 4 score1: 712.728829555541 score2: 0.3991274915910202 score3: 2.0417093372179207\n",
      "n_clusters= 5 score1: 612.8581025609484 score2: 0.2693652068583596 score3: 1.9845713293023717\n",
      "n_clusters= 6 score1: 525.6504825990539 score2: 0.3554437416632452 score3: 1.8216189504981894\n",
      "n_clusters= 7 score1: 504.37443524648705 score2: 0.29643168243450957 score3: 1.7339594924246364\n",
      "n_clusters= 8 score1: 464.6703213283977 score2: 0.29443069405614225 score3: 1.7061391906628356\n",
      "n_clusters= 9 score1: 433.24083829049187 score2: 0.30181942833300773 score3: 1.6364929197297635\n",
      "n_clusters= 10 score1: 404.94865985750255 score2: 0.3119710052243168 score3: 1.6028715990913702\n",
      "n_clusters= 11 score1: 370.42562919109236 score2: 0.31235508920595745 score3: 2.1396585358924045\n",
      "n_clusters= 12 score1: 352.50478336594904 score2: 0.2631969029795984 score3: 2.2325620317762853\n",
      "n_clusters= 13 score1: 338.40609786962557 score2: 0.3132033490504877 score3: 2.0423883225073753\n",
      "n_clusters= 14 score1: 321.2212911539663 score2: 0.2646651742287356 score3: 2.177689320916857\n",
      "Wall time: 44 s\n"
     ]
    }
   ],
   "source": [
    "%%time\n",
    "pca = PCA(0.95)  \n",
    "X_pca = pca.fit_transform(repo_mat)\n",
    "print(X_pca.shape)\n",
    "\n",
    "clusters = list(range(2,15))\n",
    "c_h_scores,s_scores,d_scores = [],[],[]\n",
    "for k in clusters:\n",
    "    y_pred = KMeans(n_clusters=k, init='k-means++', max_iter=500).fit_predict(X_pca)\n",
    "    c_h_score= metrics.calinski_harabasz_score(X_pca, y_pred) # maximize \n",
    "    s_score = metrics.silhouette_score(X_pca, y_pred)         # [-1,1]  want it close to 1\n",
    "    d_score = metrics.davies_bouldin_score(X_pca, y_pred)     # minimize  want it close to 0\n",
    "    c_h_scores.append(c_h_score)\n",
    "    s_scores.append(s_score)\n",
    "    d_scores.append(d_score)\n",
    "    print(\"n_clusters=\", k,\"score1:\",c_h_score,\"score2:\",s_score,\"score3:\",d_score)"
   ]
  },
  {
   "cell_type": "markdown",
   "metadata": {},
   "source": [
    "#### => result clusetr = 3 OR 4"
   ]
  },
  {
   "cell_type": "markdown",
   "metadata": {},
   "source": [
    "###  3. Kmeans with cos_mat  ********"
   ]
  },
  {
   "cell_type": "code",
   "execution_count": 8,
   "metadata": {
    "scrolled": true
   },
   "outputs": [
    {
     "name": "stdout",
     "output_type": "stream",
     "text": [
      "n_clusters= 2 score1: 1629.658963462905 score2: 0.32155758854240263 score3: 1.2960948753280037\n",
      "n_clusters= 3 score1: 1692.4366604781324 score2: 0.35803257103695063 score3: 1.1617266421254182\n",
      "n_clusters= 4 score1: 1632.3930296179315 score2: 0.35715519241542953 score3: 1.1503481260055015\n",
      "n_clusters= 5 score1: 1763.9200344421756 score2: 0.3979603191077796 score3: 1.076232339775157\n",
      "n_clusters= 6 score1: 1843.5137294091924 score2: 0.41969831612185665 score3: 1.0499979575538667\n",
      "n_clusters= 7 score1: 1774.8402002522869 score2: 0.4111773832812685 score3: 1.0004208468798979\n",
      "n_clusters= 8 score1: 1765.398089930172 score2: 0.4260975608242277 score3: 1.1123432311270889\n",
      "n_clusters= 9 score1: 1733.3807404479414 score2: 0.44269632624527694 score3: 1.0290974581985204\n",
      "n_clusters= 10 score1: 1735.7800054825043 score2: 0.43167897610613193 score3: 1.1180928121090261\n",
      "n_clusters= 11 score1: 1767.0195878607033 score2: 0.4503430791468564 score3: 1.0000389655214332\n",
      "n_clusters= 12 score1: 1749.3140238080184 score2: 0.4451219311526471 score3: 1.003387413657691\n",
      "n_clusters= 13 score1: 1738.0027624209097 score2: 0.45143521819237 score3: 0.9780576828369256\n",
      "n_clusters= 14 score1: 1737.8967979278139 score2: 0.45547144630296266 score3: 0.949338267955232\n",
      "Wall time: 1min 19s\n"
     ]
    }
   ],
   "source": [
    "%%time\n",
    "clusters = list(range(2,15))\n",
    "c_h_scores,s_scores,d_scores = [],[],[]\n",
    "for k in clusters:\n",
    "    y_pred = KMeans(n_clusters=k, init='k-means++', max_iter=500).fit_predict(cos_sim_mat)\n",
    "    c_h_score= metrics.calinski_harabasz_score(cos_sim_mat, y_pred) # maximize \n",
    "    s_score = metrics.silhouette_score(cos_sim_mat, y_pred)         # [-1,1]  want it close to 1\n",
    "    d_score = metrics.davies_bouldin_score(cos_sim_mat, y_pred)     # minimize  want it close to 0\n",
    "    c_h_scores.append(c_h_score)\n",
    "    s_scores.append(s_score)\n",
    "    d_scores.append(d_score)\n",
    "    print(\"n_clusters=\", k,\"score1:\",c_h_score,\"score2:\",s_score,\"score3:\",d_score)"
   ]
  },
  {
   "cell_type": "markdown",
   "metadata": {},
   "source": [
    "#### => result clusetr = 6"
   ]
  },
  {
   "cell_type": "markdown",
   "metadata": {},
   "source": [
    "### Spectral Cluster   ********\n",
    "\n",
    "The edge weight value between two points farther apart is lower, while the edge weight value between two points closer together is higher.\n",
    "\n",
    "Strength:<br>\n",
    "1) Spectral clustering only needs the similarity matrix between data, so it is very effective for processing sparse data clustering. This is difficult for traditional clustering algorithms such as K-Means.<br>\n",
    "2) Due to the use of dimensionality reduction, the complexity of processing high-dimensional data clustering is better than traditional clustering algorithms.\n",
    "\n",
    "Weakness:<br>\n",
    "1) If the dimensionality of the final cluster is very high, the running speed of spectral clustering and the final clustering effect are not good due to insufficient dimensionality reduction.<br>\n",
    "2) The clustering effect depends on the similarity matrix, and the final clustering effect obtained by different similarity matrices may be very different."
   ]
  },
  {
   "cell_type": "code",
   "execution_count": 9,
   "metadata": {
    "scrolled": true
   },
   "outputs": [
    {
     "name": "stdout",
     "output_type": "stream",
     "text": [
      "n_clusters= 2 score1: 2.1095054126192703 score2: -0.07703093055985101 score3: 0.9848325428164458\n",
      "n_clusters= 3 score1: 2.1211496924237525 score2: -0.07597227821824325 score3: 0.9708633005735064\n",
      "n_clusters= 4 score1: 93.44242476492062 score2: -0.0056383942975032145 score3: 0.977104150063664\n",
      "n_clusters= 5 score1: 71.54683104365813 score2: -0.003804104891033956 score3: 1.0026351814371548\n",
      "n_clusters= 6 score1: 2.1286257154830097 score2: -0.07471639884044708 score3: 0.9749437623498939\n",
      "n_clusters= 7 score1: 2.1326751800987522 score2: -0.07343198015488889 score3: 0.9695599089249434\n",
      "n_clusters= 8 score1: 4.792972963760513 score2: -0.06724892879536429 score3: 0.9903676183317569\n",
      "n_clusters= 9 score1: 40.09501655804959 score2: 0.002522054772243455 score3: 1.0248798178735303\n",
      "n_clusters= 10 score1: 34.09603670991329 score2: 0.0006701453348638753 score3: 0.9936409392536092\n",
      "n_clusters= 11 score1: 35.01975933067803 score2: 0.01019038572630813 score3: 1.0363033332447555\n",
      "n_clusters= 12 score1: 5.472419272331157 score2: -0.05792429859622004 score3: 1.016386733203473\n",
      "n_clusters= 13 score1: 5.124048955387038 score2: -0.056153945192007844 score3: 0.9793987235581423\n",
      "n_clusters= 14 score1: 5.169340289326051 score2: -0.054256164589446265 score3: 0.9830365733915071\n",
      "Wall time: 21 s\n"
     ]
    }
   ],
   "source": [
    "%%time\n",
    "clusters = list(range(2,15))\n",
    "c_h_scores,s_scores,d_scores = [],[],[]\n",
    "for k in clusters:\n",
    "    y_pred = SpectralClustering(n_clusters=k,affinity='precomputed').fit_predict(cos_sim_mat)\n",
    "    c_h_score= metrics.calinski_harabasz_score(cos_sim_mat, y_pred) # maximize \n",
    "    s_score = metrics.silhouette_score(cos_sim_mat, y_pred)         # [-1,1]  want it close to 1\n",
    "    d_score = metrics.davies_bouldin_score(cos_sim_mat, y_pred)     # minimize  want it close to 0\n",
    "    c_h_scores.append(c_h_score)\n",
    "    s_scores.append(s_score)\n",
    "    d_scores.append(d_score)\n",
    "    print(\"n_clusters=\", k,\"score1:\",c_h_score,\"score2:\",s_score,\"score3:\",d_score)\n",
    "    \n",
    "#Warning:\n",
    "#/opt/anaconda3/envs/Knowledge_Graph/lib/python3.6/site-packages/sklearn/manifold/_spectral_embedding.py:236: UserWarning: Graph is not fully connected, spectral embedding may not work as expected.\n",
    "#  warnings.warn(\"Graph is not fully connected, spectral embedding\"\n",
    "#'''"
   ]
  },
  {
   "cell_type": "markdown",
   "metadata": {},
   "source": [
    "#### => result clusetr = 9 !!!\n"
   ]
  },
  {
   "cell_type": "markdown",
   "metadata": {},
   "source": [
    "### HDBSCAN Cluster \n",
    "\n",
    "strength:\n",
    "1. Compared with K-Means, HDBSCAN does not need to declare the number of clusters in advance.\n",
    "2. It can cluster dense data sets of any shape. In contrast, clustering algorithms such as K-Means are generally only suitable for convex data sets.\n",
    "3. Abnormal points can be found while clustering, and it is not sensitive to abnormal points in the data set.\n",
    "4. The clustering results are not biased. In contrast, the initial values of clustering algorithms such as K-Means have a great influence on the clustering results"
   ]
  },
  {
   "cell_type": "code",
   "execution_count": 10,
   "metadata": {
    "scrolled": true
   },
   "outputs": [
    {
     "name": "stdout",
     "output_type": "stream",
     "text": [
      "min_cluster_size: 5 min_samples: 10 cluster_selection_epsilon: 0.1 alpha: 0.25\n",
      "clusters: 149 score1: 59.574034951321025 score2: 0.10791834765770884 score3: 1.2338591657479963\n",
      "==================================================\n",
      "min_cluster_size: 5 min_samples: 10 cluster_selection_epsilon: 0.1 alpha: 0.5\n",
      "clusters: 146 score1: 61.67183050521367 score2: 0.11176032329721709 score3: 1.2312048721914937\n",
      "==================================================\n",
      "min_cluster_size: 5 min_samples: 10 cluster_selection_epsilon: 0.1 alpha: 0.75\n",
      "clusters: 103 score1: 101.32949033218966 score2: 0.13416297540106664 score3: 1.235639240643247\n",
      "==================================================\n",
      "min_cluster_size: 5 min_samples: 10 cluster_selection_epsilon: 0.3 alpha: 0.25\n",
      "clusters: 149 score1: 59.574034951321025 score2: 0.10791834765770884 score3: 1.2338591657479963\n",
      "==================================================\n",
      "min_cluster_size: 5 min_samples: 10 cluster_selection_epsilon: 0.3 alpha: 0.5\n",
      "clusters: 145 score1: 65.8343781807023 score2: 0.12254737244729981 score3: 1.2307385018768338\n",
      "==================================================\n",
      "min_cluster_size: 5 min_samples: 10 cluster_selection_epsilon: 0.3 alpha: 0.75\n",
      "clusters: 103 score1: 101.32949033218966 score2: 0.13416297540106664 score3: 1.235639240643247\n",
      "==================================================\n",
      "min_cluster_size: 5 min_samples: 20 cluster_selection_epsilon: 0.1 alpha: 0.25\n",
      "clusters: 148 score1: 63.49580658460214 score2: 0.11868023193842396 score3: 1.2335936847221893\n",
      "==================================================\n",
      "min_cluster_size: 5 min_samples: 20 cluster_selection_epsilon: 0.1 alpha: 0.5\n",
      "clusters: 128 score1: 87.5423506941275 score2: 0.1441599672183508 score3: 1.2515422717500062\n",
      "==================================================\n",
      "min_cluster_size: 5 min_samples: 20 cluster_selection_epsilon: 0.1 alpha: 0.75\n",
      "clusters: 55 score1: 167.3705286204627 score2: 0.0965512345458387 score3: 1.2414700226133701\n",
      "==================================================\n",
      "min_cluster_size: 5 min_samples: 20 cluster_selection_epsilon: 0.3 alpha: 0.25\n",
      "clusters: 148 score1: 63.49580658460214 score2: 0.11868023193842396 score3: 1.2335936847221893\n",
      "==================================================\n",
      "min_cluster_size: 5 min_samples: 20 cluster_selection_epsilon: 0.3 alpha: 0.5\n",
      "clusters: 128 score1: 87.5423506941275 score2: 0.1441599672183508 score3: 1.2515422717500062\n",
      "==================================================\n",
      "min_cluster_size: 5 min_samples: 20 cluster_selection_epsilon: 0.3 alpha: 0.75\n",
      "clusters: 55 score1: 167.3705286204627 score2: 0.0965512345458387 score3: 1.2414700226133701\n",
      "==================================================\n",
      "min_cluster_size: 5 min_samples: 30 cluster_selection_epsilon: 0.1 alpha: 0.25\n",
      "clusters: 144 score1: 68.97128183110087 score2: 0.1297485913970144 score3: 1.2316710890590554\n",
      "==================================================\n",
      "min_cluster_size: 5 min_samples: 30 cluster_selection_epsilon: 0.1 alpha: 0.5\n",
      "clusters: 98 score1: 174.22410667698668 score2: 0.19740645443887953 score3: 1.2406670749431545\n",
      "==================================================\n",
      "min_cluster_size: 5 min_samples: 30 cluster_selection_epsilon: 0.1 alpha: 0.75\n",
      "clusters: 33 score1: 347.1455728118031 score2: 0.17105659877101734 score3: 1.1637769742808493\n",
      "==================================================\n",
      "min_cluster_size: 5 min_samples: 30 cluster_selection_epsilon: 0.3 alpha: 0.25\n",
      "clusters: 144 score1: 68.97128183110087 score2: 0.1297485913970144 score3: 1.2316710890590554\n",
      "==================================================\n",
      "min_cluster_size: 5 min_samples: 30 cluster_selection_epsilon: 0.3 alpha: 0.5\n",
      "clusters: 98 score1: 174.22410667698668 score2: 0.19740645443887953 score3: 1.2406670749431545\n",
      "==================================================\n",
      "min_cluster_size: 5 min_samples: 30 cluster_selection_epsilon: 0.3 alpha: 0.75\n",
      "clusters: 33 score1: 347.1455728118031 score2: 0.17105659877101734 score3: 1.1637769742808493\n",
      "==================================================\n",
      "min_cluster_size: 5 min_samples: 40 cluster_selection_epsilon: 0.1 alpha: 0.25\n",
      "clusters: 141 score1: 77.837854339465 score2: 0.14650155127648332 score3: 1.2260238600062388\n",
      "==================================================\n",
      "min_cluster_size: 5 min_samples: 40 cluster_selection_epsilon: 0.1 alpha: 0.5\n",
      "clusters: 87 score1: 226.8100878699124 score2: 0.21865972051785704 score3: 1.2644483480768172\n",
      "==================================================\n",
      "min_cluster_size: 5 min_samples: 40 cluster_selection_epsilon: 0.1 alpha: 0.75\n",
      "clusters: 31 score1: 285.75040998701496 score2: 0.08312704269114629 score3: 1.1861386602394017\n",
      "==================================================\n",
      "min_cluster_size: 5 min_samples: 40 cluster_selection_epsilon: 0.3 alpha: 0.25\n",
      "clusters: 141 score1: 77.837854339465 score2: 0.14650155127648332 score3: 1.2260238600062388\n",
      "==================================================\n",
      "min_cluster_size: 5 min_samples: 40 cluster_selection_epsilon: 0.3 alpha: 0.5\n",
      "clusters: 87 score1: 226.8100878699124 score2: 0.21865972051785704 score3: 1.2644483480768172\n",
      "==================================================\n",
      "min_cluster_size: 5 min_samples: 40 cluster_selection_epsilon: 0.3 alpha: 0.75\n",
      "clusters: 31 score1: 285.75040998701496 score2: 0.08312704269114629 score3: 1.1861386602394017\n",
      "==================================================\n",
      "min_cluster_size: 10 min_samples: 10 cluster_selection_epsilon: 0.1 alpha: 0.25\n",
      "clusters: 64 score1: 174.87601734710645 score2: 0.16010451156258104 score3: 1.2025357902162157\n",
      "==================================================\n",
      "min_cluster_size: 10 min_samples: 10 cluster_selection_epsilon: 0.1 alpha: 0.5\n",
      "clusters: 64 score1: 174.87601734710645 score2: 0.16010451156258104 score3: 1.2025357902162157\n",
      "==================================================\n",
      "min_cluster_size: 10 min_samples: 10 cluster_selection_epsilon: 0.1 alpha: 0.75\n",
      "clusters: 62 score1: 168.55372828213072 score2: 0.14530006961988637 score3: 1.2056859954613743\n",
      "==================================================\n",
      "min_cluster_size: 10 min_samples: 10 cluster_selection_epsilon: 0.3 alpha: 0.25\n",
      "clusters: 64 score1: 174.87601734710645 score2: 0.16010451156258104 score3: 1.2025357902162157\n",
      "==================================================\n",
      "min_cluster_size: 10 min_samples: 10 cluster_selection_epsilon: 0.3 alpha: 0.5\n",
      "clusters: 64 score1: 174.87601734710645 score2: 0.16010451156258104 score3: 1.2025357902162157\n",
      "==================================================\n",
      "min_cluster_size: 10 min_samples: 10 cluster_selection_epsilon: 0.3 alpha: 0.75\n",
      "clusters: 62 score1: 168.55372828213072 score2: 0.14530006961988637 score3: 1.2056859954613743\n",
      "==================================================\n",
      "min_cluster_size: 10 min_samples: 20 cluster_selection_epsilon: 0.1 alpha: 0.25\n",
      "clusters: 64 score1: 174.87601734710645 score2: 0.16010451156258104 score3: 1.2025357902162157\n",
      "==================================================\n",
      "min_cluster_size: 10 min_samples: 20 cluster_selection_epsilon: 0.1 alpha: 0.5\n",
      "clusters: 61 score1: 189.50921851717067 score2: 0.16672569864349412 score3: 1.2130166739691064\n",
      "==================================================\n",
      "min_cluster_size: 10 min_samples: 20 cluster_selection_epsilon: 0.1 alpha: 0.75\n",
      "clusters: 38 score1: 312.0477172750919 score2: 0.19427042806052894 score3: 1.1802829254166771\n",
      "==================================================\n",
      "min_cluster_size: 10 min_samples: 20 cluster_selection_epsilon: 0.3 alpha: 0.25\n",
      "clusters: 64 score1: 174.87601734710645 score2: 0.16010451156258104 score3: 1.2025357902162157\n",
      "==================================================\n",
      "min_cluster_size: 10 min_samples: 20 cluster_selection_epsilon: 0.3 alpha: 0.5\n",
      "clusters: 61 score1: 189.50921851717067 score2: 0.16672569864349412 score3: 1.2130166739691064\n",
      "==================================================\n",
      "min_cluster_size: 10 min_samples: 20 cluster_selection_epsilon: 0.3 alpha: 0.75\n",
      "clusters: 38 score1: 312.0477172750919 score2: 0.19427042806052894 score3: 1.1802829254166771\n",
      "==================================================\n",
      "min_cluster_size: 10 min_samples: 30 cluster_selection_epsilon: 0.1 alpha: 0.25\n",
      "clusters: 64 score1: 174.87601734710645 score2: 0.16010451156258104 score3: 1.2025357902162157\n",
      "==================================================\n",
      "min_cluster_size: 10 min_samples: 30 cluster_selection_epsilon: 0.1 alpha: 0.5\n"
     ]
    },
    {
     "name": "stdout",
     "output_type": "stream",
     "text": [
      "clusters: 54 score1: 242.31636942458454 score2: 0.21132672931152646 score3: 1.2565356156093215\n",
      "==================================================\n",
      "min_cluster_size: 10 min_samples: 30 cluster_selection_epsilon: 0.1 alpha: 0.75\n",
      "clusters: 25 score1: 466.18203344591717 score2: 0.20784713001964988 score3: 1.127441738507059\n",
      "==================================================\n",
      "min_cluster_size: 10 min_samples: 30 cluster_selection_epsilon: 0.3 alpha: 0.25\n",
      "clusters: 64 score1: 174.87601734710645 score2: 0.16010451156258104 score3: 1.2025357902162157\n",
      "==================================================\n",
      "min_cluster_size: 10 min_samples: 30 cluster_selection_epsilon: 0.3 alpha: 0.5\n",
      "clusters: 54 score1: 242.31636942458454 score2: 0.21132672931152646 score3: 1.2565356156093215\n",
      "==================================================\n",
      "min_cluster_size: 10 min_samples: 30 cluster_selection_epsilon: 0.3 alpha: 0.75\n",
      "clusters: 25 score1: 466.18203344591717 score2: 0.20784713001964988 score3: 1.127441738507059\n",
      "==================================================\n",
      "min_cluster_size: 10 min_samples: 40 cluster_selection_epsilon: 0.1 alpha: 0.25\n",
      "clusters: 63 score1: 194.00216276998296 score2: 0.19061669284107674 score3: 1.214220138415802\n",
      "==================================================\n",
      "min_cluster_size: 10 min_samples: 40 cluster_selection_epsilon: 0.1 alpha: 0.5\n",
      "clusters: 50 score1: 244.51559547676328 score2: 0.20154370573183147 score3: 1.2838588038044523\n",
      "==================================================\n",
      "min_cluster_size: 10 min_samples: 40 cluster_selection_epsilon: 0.1 alpha: 0.75\n",
      "clusters: 22 score1: 498.41913256566943 score2: 0.23468112261040272 score3: 1.1648464730364747\n",
      "==================================================\n",
      "min_cluster_size: 10 min_samples: 40 cluster_selection_epsilon: 0.3 alpha: 0.25\n",
      "clusters: 63 score1: 194.00216276998296 score2: 0.19061669284107674 score3: 1.214220138415802\n",
      "==================================================\n",
      "min_cluster_size: 10 min_samples: 40 cluster_selection_epsilon: 0.3 alpha: 0.5\n",
      "clusters: 50 score1: 244.51559547676328 score2: 0.20154370573183147 score3: 1.2838588038044523\n",
      "==================================================\n",
      "min_cluster_size: 10 min_samples: 40 cluster_selection_epsilon: 0.3 alpha: 0.75\n",
      "clusters: 22 score1: 498.41913256566943 score2: 0.23468112261040272 score3: 1.1648464730364747\n",
      "==================================================\n",
      "min_cluster_size: 15 min_samples: 10 cluster_selection_epsilon: 0.1 alpha: 0.25\n",
      "clusters: 45 score1: 253.25099145605685 score2: 0.21168183633243023 score3: 1.2422489785131297\n",
      "==================================================\n",
      "min_cluster_size: 15 min_samples: 10 cluster_selection_epsilon: 0.1 alpha: 0.5\n",
      "clusters: 45 score1: 253.25099145605685 score2: 0.21168183633243023 score3: 1.2422489785131297\n",
      "==================================================\n",
      "min_cluster_size: 15 min_samples: 10 cluster_selection_epsilon: 0.1 alpha: 0.75\n",
      "clusters: 43 score1: 254.34644353338712 score2: 0.20418077365977036 score3: 1.241703235689225\n",
      "==================================================\n",
      "min_cluster_size: 15 min_samples: 10 cluster_selection_epsilon: 0.3 alpha: 0.25\n",
      "clusters: 45 score1: 253.25099145605685 score2: 0.21168183633243023 score3: 1.2422489785131297\n",
      "==================================================\n",
      "min_cluster_size: 15 min_samples: 10 cluster_selection_epsilon: 0.3 alpha: 0.5\n",
      "clusters: 45 score1: 253.25099145605685 score2: 0.21168183633243023 score3: 1.2422489785131297\n",
      "==================================================\n",
      "min_cluster_size: 15 min_samples: 10 cluster_selection_epsilon: 0.3 alpha: 0.75\n",
      "clusters: 43 score1: 254.34644353338712 score2: 0.20418077365977036 score3: 1.241703235689225\n",
      "==================================================\n",
      "min_cluster_size: 15 min_samples: 20 cluster_selection_epsilon: 0.1 alpha: 0.25\n",
      "clusters: 45 score1: 253.25099145605685 score2: 0.21168183633243023 score3: 1.2422489785131297\n",
      "==================================================\n",
      "min_cluster_size: 15 min_samples: 20 cluster_selection_epsilon: 0.1 alpha: 0.5\n",
      "clusters: 42 score1: 292.6451947548265 score2: 0.223650755066726 score3: 1.258048983731664\n",
      "==================================================\n",
      "min_cluster_size: 15 min_samples: 20 cluster_selection_epsilon: 0.1 alpha: 0.75\n",
      "clusters: 29 score1: 477.47708672333755 score2: 0.2455654849838874 score3: 1.1232198916460936\n",
      "==================================================\n",
      "min_cluster_size: 15 min_samples: 20 cluster_selection_epsilon: 0.3 alpha: 0.25\n",
      "clusters: 45 score1: 253.25099145605685 score2: 0.21168183633243023 score3: 1.2422489785131297\n",
      "==================================================\n",
      "min_cluster_size: 15 min_samples: 20 cluster_selection_epsilon: 0.3 alpha: 0.5\n",
      "clusters: 42 score1: 292.6451947548265 score2: 0.223650755066726 score3: 1.258048983731664\n",
      "==================================================\n",
      "min_cluster_size: 15 min_samples: 20 cluster_selection_epsilon: 0.3 alpha: 0.75\n",
      "clusters: 29 score1: 477.47708672333755 score2: 0.2455654849838874 score3: 1.1232198916460936\n",
      "==================================================\n",
      "min_cluster_size: 15 min_samples: 30 cluster_selection_epsilon: 0.1 alpha: 0.25\n",
      "clusters: 45 score1: 253.25099145605685 score2: 0.21168183633243023 score3: 1.2422489785131297\n",
      "==================================================\n",
      "min_cluster_size: 15 min_samples: 30 cluster_selection_epsilon: 0.1 alpha: 0.5\n",
      "clusters: 41 score1: 371.2668919533435 score2: 0.2559745460569519 score3: 1.2114589988967903\n",
      "==================================================\n",
      "min_cluster_size: 15 min_samples: 30 cluster_selection_epsilon: 0.1 alpha: 0.75\n",
      "clusters: 24 score1: 479.63185401015386 score2: 0.221151519498583 score3: 1.137339727038784\n",
      "==================================================\n",
      "min_cluster_size: 15 min_samples: 30 cluster_selection_epsilon: 0.3 alpha: 0.25\n",
      "clusters: 45 score1: 253.25099145605685 score2: 0.21168183633243023 score3: 1.2422489785131297\n",
      "==================================================\n",
      "min_cluster_size: 15 min_samples: 30 cluster_selection_epsilon: 0.3 alpha: 0.5\n",
      "clusters: 41 score1: 371.2668919533435 score2: 0.2559745460569519 score3: 1.2114589988967903\n",
      "==================================================\n",
      "min_cluster_size: 15 min_samples: 30 cluster_selection_epsilon: 0.3 alpha: 0.75\n",
      "clusters: 24 score1: 479.63185401015386 score2: 0.221151519498583 score3: 1.137339727038784\n",
      "==================================================\n",
      "min_cluster_size: 15 min_samples: 40 cluster_selection_epsilon: 0.1 alpha: 0.25\n",
      "clusters: 42 score1: 295.2318115540428 score2: 0.22554210102599453 score3: 1.2575234420879193\n",
      "==================================================\n",
      "min_cluster_size: 15 min_samples: 40 cluster_selection_epsilon: 0.1 alpha: 0.5\n",
      "clusters: 37 score1: 414.48420343250706 score2: 0.2565069019375565 score3: 1.217516476921868\n",
      "==================================================\n",
      "min_cluster_size: 15 min_samples: 40 cluster_selection_epsilon: 0.1 alpha: 0.75\n",
      "clusters: 19 score1: 572.6882498665217 score2: 0.26683735532023717 score3: 1.1006864744530893\n",
      "==================================================\n",
      "min_cluster_size: 15 min_samples: 40 cluster_selection_epsilon: 0.3 alpha: 0.25\n",
      "clusters: 42 score1: 295.2318115540428 score2: 0.22554210102599453 score3: 1.2575234420879193\n",
      "==================================================\n",
      "min_cluster_size: 15 min_samples: 40 cluster_selection_epsilon: 0.3 alpha: 0.5\n",
      "clusters: 37 score1: 414.48420343250706 score2: 0.2565069019375565 score3: 1.217516476921868\n",
      "==================================================\n",
      "min_cluster_size: 15 min_samples: 40 cluster_selection_epsilon: 0.3 alpha: 0.75\n",
      "clusters: 19 score1: 572.6882498665217 score2: 0.26683735532023717 score3: 1.1006864744530893\n",
      "==================================================\n",
      "Wall time: 34min 20s\n"
     ]
    }
   ],
   "source": [
    "%%time\n",
    "import hdbscan\n",
    "import numpy as np\n",
    "\n",
    "#params \n",
    "min_cluster_sizes = [5,10,15]\n",
    "min_sampless = [10,20,30,40]\n",
    "cluster_selection_epsilons = [0.1,0.3]\n",
    "alphas = [0.25,0.5,0.75]\n",
    "\n",
    "\n",
    "for min_cluster_size in min_cluster_sizes:\n",
    "    for min_samples in min_sampless:\n",
    "        for cluster_selection_epsilon in cluster_selection_epsilons:\n",
    "            for alpha in alphas:\n",
    "                print(\"min_cluster_size:\",min_cluster_size,'min_samples:',min_samples,\n",
    "                      \"cluster_selection_epsilon:\",cluster_selection_epsilon,'alpha:',alpha)\n",
    "\n",
    "                cluster = hdbscan.HDBSCAN(min_cluster_size=min_cluster_size,min_samples=min_samples,\n",
    "                                          cluster_selection_epsilon=cluster_selection_epsilon,alpha=alpha)\n",
    "                y_pred= cluster.fit_predict(cos_sim_mat)\n",
    "                labels = cluster.labels_\n",
    "\n",
    "                c_h_score= metrics.calinski_harabasz_score(cos_sim_mat, y_pred) # maximize \n",
    "                s_score = metrics.silhouette_score(cos_sim_mat, y_pred)         # [-1,1]  want it close 1\n",
    "                d_score = metrics.davies_bouldin_score(cos_sim_mat, y_pred)     # minimize \n",
    "                y_unique = np.unique(labels)\n",
    "                n_clusters = y_unique.size - (1 if -1 in y_unique else 0)\n",
    "                print(\"clusters:\",n_clusters ,\"score1:\",c_h_score,\"score2:\",s_score,\"score3:\",d_score)\n",
    "                print('='*50)"
   ]
  },
  {
   "cell_type": "markdown",
   "metadata": {},
   "source": [
    "min_cluster_size: 15 min_samples: 40 cluster_selection_epsilon: 0.1 alpha: 0.75\n",
    "clusters: 19 score1: 572.6882498665217 score2: 0.26683735532023717 score3: 1.1006864744530893\n",
    "                "
   ]
  },
  {
   "cell_type": "code",
   "execution_count": null,
   "metadata": {},
   "outputs": [],
   "source": []
  }
 ],
 "metadata": {
  "kernelspec": {
   "display_name": "Python 3",
   "language": "python",
   "name": "python3"
  },
  "language_info": {
   "codemirror_mode": {
    "name": "ipython",
    "version": 3
   },
   "file_extension": ".py",
   "mimetype": "text/x-python",
   "name": "python",
   "nbconvert_exporter": "python",
   "pygments_lexer": "ipython3",
   "version": "3.7.3"
  }
 },
 "nbformat": 4,
 "nbformat_minor": 4
}
